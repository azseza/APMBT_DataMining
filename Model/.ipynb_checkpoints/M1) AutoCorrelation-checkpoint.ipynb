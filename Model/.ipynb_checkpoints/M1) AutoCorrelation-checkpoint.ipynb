{
 "cells": [
  {
   "cell_type": "markdown",
   "metadata": {},
   "source": [
    "<h1>Auto Regression</h1>\n",
    "<p>Un processus autorégressif est un modèle de régression pour séries temporelles dans lequel la série est expliquée par ses valeurs passées plutôt que par d'autres variables. <br>Il est exprimée par l'equation suivante<img src= 'img1.png'>\n",
    "</p>"
   ]
  },
  {
   "cell_type": "code",
   "execution_count": 10,
   "metadata": {},
   "outputs": [],
   "source": [
    "import pandas as pd \n",
    "from matplotlib import pyplot\n",
    "import matplotlib.pyplot as plt \n",
    "from sklearn.metrics import mean_squared_error\n",
    "from statsmodels.tsa.ar_model import AR\n",
    "from math import sqrt\n",
    "%matplotlib inline"
   ]
  },
  {
   "cell_type": "code",
   "execution_count": 2,
   "metadata": {},
   "outputs": [
    {
     "data": {
      "text/plain": [
       "733"
      ]
     },
     "execution_count": 2,
     "metadata": {},
     "output_type": "execute_result"
    }
   ],
   "source": [
    "#chargement des valeur d'ouverture du TunIndex\n",
    "d = pd.read_csv('Data.csv')\n",
    "X = d[\"Open\"]\n",
    "X.reset_index()\n",
    "len(X)"
   ]
  },
  {
   "cell_type": "code",
   "execution_count": 3,
   "metadata": {},
   "outputs": [
    {
     "data": {
      "text/plain": [
       "1      6191.54\n",
       "2      6258.01\n",
       "3      6240.59\n",
       "4      6265.08\n",
       "5      6313.80\n",
       "        ...   \n",
       "713    6645.79\n",
       "714    6688.35\n",
       "715    6698.63\n",
       "716    6714.88\n",
       "717    6739.41\n",
       "Name: Open, Length: 717, dtype: float64"
      ]
     },
     "execution_count": 3,
     "metadata": {},
     "output_type": "execute_result"
    }
   ],
   "source": [
    "train, test = X[1:len(X)-15], X[len(X)-15:] #Découpage des valeur en Dest et train Data\n",
    "train"
   ]
  },
  {
   "cell_type": "code",
   "execution_count": 4,
   "metadata": {},
   "outputs": [
    {
     "name": "stderr",
     "output_type": "stream",
     "text": [
      "/home/azseza/.local/lib/python3.8/site-packages/statsmodels/tsa/ar_model.py:791: FutureWarning: \n",
      "statsmodels.tsa.AR has been deprecated in favor of statsmodels.tsa.AutoReg and\n",
      "statsmodels.tsa.SARIMAX.\n",
      "\n",
      "AutoReg adds the ability to specify exogenous variables, include time trends,\n",
      "and add seasonal dummies. The AutoReg API differs from AR since the model is\n",
      "treated as immutable, and so the entire specification including the lag\n",
      "length must be specified when creating the model. This change is too\n",
      "substantial to incorporate into the existing AR api. The function\n",
      "ar_select_order performs lag length selection for AutoReg models.\n",
      "\n",
      "AutoReg only estimates parameters using conditional MLE (OLS). Use SARIMAX to\n",
      "estimate ARX and related models using full MLE via the Kalman Filter.\n",
      "\n",
      "To silence this warning and continue using AR until it is removed, use:\n",
      "\n",
      "import warnings\n",
      "warnings.filterwarnings('ignore', 'statsmodels.tsa.ar_model.AR', FutureWarning)\n",
      "\n",
      "  warnings.warn(AR_DEPRECATION_WARN, FutureWarning)\n"
     ]
    },
    {
     "data": {
      "text/plain": [
       "const       54.897115\n",
       "L1.Open      1.191929\n",
       "L2.Open     -0.181806\n",
       "L3.Open     -0.008544\n",
       "L4.Open     -0.069463\n",
       "L5.Open      0.142621\n",
       "L6.Open     -0.069731\n",
       "L7.Open     -0.060489\n",
       "L8.Open      0.067537\n",
       "L9.Open     -0.009850\n",
       "L10.Open    -0.010314\n",
       "L11.Open    -0.012502\n",
       "L12.Open     0.074692\n",
       "L13.Open    -0.007510\n",
       "L14.Open    -0.044211\n",
       "L15.Open    -0.002770\n",
       "L16.Open     0.034979\n",
       "L17.Open     0.013033\n",
       "L18.Open    -0.020791\n",
       "L19.Open    -0.007263\n",
       "L20.Open    -0.027266\n",
       "dtype: float64"
      ]
     },
     "execution_count": 4,
     "metadata": {},
     "output_type": "execute_result"
    }
   ],
   "source": [
    "#entrainement du modéle de régression : \n",
    "model = AR(train)\n",
    "model_fit = model.fit()\n",
    "window = model_fit.k_ar\n",
    "coef = model_fit.params\n",
    "coef"
   ]
  },
  {
   "cell_type": "code",
   "execution_count": 6,
   "metadata": {},
   "outputs": [
    {
     "name": "stdout",
     "output_type": "stream",
     "text": [
      "20\n",
      "698    6650.82\n",
      "699    6688.03\n",
      "700    6650.48\n",
      "701    6645.55\n",
      "702    6617.44\n",
      "703    6580.76\n",
      "704    6554.48\n",
      "705    6590.45\n",
      "706    6572.44\n",
      "707    6535.74\n",
      "708    6591.25\n",
      "709    6615.66\n",
      "710    6625.39\n",
      "711    6638.14\n",
      "712    6635.80\n",
      "713    6645.79\n",
      "714    6688.35\n",
      "715    6698.63\n",
      "716    6714.88\n",
      "717    6739.41\n",
      "Name: Open, dtype: float64\n",
      " predicted=6719.387581, expected=6763.230000 \n",
      " predicted=6769.953536, expected=6759.860000 \n",
      " predicted=6758.280720, expected=6757.300000 \n",
      " predicted=6756.870316, expected=6804.990000 \n",
      " predicted=6815.415697, expected=6779.770000 \n",
      " predicted=6784.331335, expected=6794.030000 \n",
      " predicted=6799.620903, expected=6838.810000 \n",
      " predicted=6846.208130, expected=6832.610000 \n",
      " predicted=6843.621555, expected=6840.070000 \n",
      " predicted=6847.933795, expected=6834.660000 \n",
      " predicted=6837.813528, expected=6830.680000 \n",
      " predicted=6841.432644, expected=6857.740000 \n",
      " predicted=6869.198526, expected=6874.890000 \n",
      " predicted=6884.617368, expected=6895.040000 \n",
      " Test RMSE: 24.013 \n"
     ]
    }
   ],
   "source": [
    "#test du modéle autoregressif\n",
    "history = train[len(train)-window:]\n",
    "history.reset_index()\n",
    "print(str(len(history)))\n",
    "print(history)\n",
    "history = [history[i] for i in range(699,717)]\n",
    "predictions = list()\n",
    "for t in range(718,732):\n",
    "    length = len(history)\n",
    "    lag = [history[i] for i in range(length-window,length)]\n",
    "    yhat = coef[0]\n",
    "    for d in range(window):\n",
    "        yhat += coef[d+1] * lag[window-d-1]\n",
    "    obs = test[t]\n",
    "    predictions.append(yhat)\n",
    "    history.append(obs)\n",
    "    print( ' predicted=%f, expected=%f ' % (yhat, obs))\n",
    "rmse = sqrt(mean_squared_error(test[:-1], predictions))\n",
    "print( ' Test RMSE: %.3f ' % rmse)\n"
   ]
  },
  {
   "cell_type": "code",
   "execution_count": 23,
   "metadata": {},
   "outputs": [
    {
     "data": {
      "text/plain": [
       "[<matplotlib.lines.Line2D at 0x7f55efc22ca0>]"
      ]
     },
     "execution_count": 23,
     "metadata": {},
     "output_type": "execute_result"
    },
    {
     "data": {
      "image/png": "[encoded data removed]",
      "text/plain": [
       "<Figure size 720x432 with 2 Axes>"
      ]
     },
     "metadata": {
      "needs_background": "light"
     },
     "output_type": "display_data"
    }
   ],
   "source": [
    "# plot\n",
    "fig, ax = plt.subplots(figsize=(10, 6))\n",
    "axb = ax.twinx()\n",
    "ax.grid(True)\n",
    "ax.plot(predictions, color='tab:orange', label=';Open')\n",
    "ax.legend(loc='upper left');\n",
    "axb.set_ylabel('temps/Open/IPI')\n",
    "ax.plot(test[:-1], color='olive', label=';Open')\n"
   ]
  }
 ],
 "metadata": {
  "kernelspec": {
   "display_name": "Python 3",
   "language": "python",
   "name": "python3"
  },
  "language_info": {
   "codemirror_mode": {
    "name": "ipython",
    "version": 3
   },
   "file_extension": ".py",
   "mimetype": "text/x-python",
   "name": "python",
   "nbconvert_exporter": "python",
   "pygments_lexer": "ipython3",
   "version": "3.8.5"
  }
 },
 "nbformat": 4,
 "nbformat_minor": 4
}
